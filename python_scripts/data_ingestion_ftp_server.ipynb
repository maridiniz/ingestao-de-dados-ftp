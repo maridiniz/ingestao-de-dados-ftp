{
 "cells": [
  {
   "cell_type": "code",
   "execution_count": null,
   "id": "adbb6e78",
   "metadata": {},
   "outputs": [],
   "source": [
    "# Importando as livrarias necessárias\n",
    "import pandas as pd\n",
    "import os\n",
    "import py7zr\n",
    "import tempfile\n",
    "import urllib"
   ]
  },
  {
   "cell_type": "code",
   "execution_count": null,
   "id": "ef04189c",
   "metadata": {},
   "outputs": [],
   "source": [
    "# Definindo uma função que lê e extrai os arquivos do servidor ftp e armazena em um DataFrame pandas\n",
    "def extract_rais_data(url, nrows=None, cols=None):\n",
    "    \"\"\"\n",
    "    Lê, descompacta e retorna os dados de ftp server em um DataFrame pandas.\n",
    "    \n",
    "    A função acessa e extrai os dados do RAIS direto do servidor ftp do Ministério do Trabalho.\n",
    "    Armazena temporariamente os dados em diretório local, descompacta — arquivo em formato 7z — para posteriormente \n",
    "    disponibilizar em um DataFrame pandas para análises futuras.\n",
    "\n",
    "    Parâmetros:\n",
    "        url: (link). Recebe o caminho do arquivo.\n",
    "        nrows: (int), value_default=None. Número de linhas do dataset a set importado.\n",
    "        cols: (list-like), value_default=None. Recebe colunas específicas a serem importadas.\n",
    "    \n",
    "    Retorna: \n",
    "        pandas.DataFrame. Retorna um DataFrame pandas.\n",
    "    \"\"\"\n",
    "    \n",
    "    # Lê os dados do servidor ftp\n",
    "    with urllib.request.urlopen(url) as file:\n",
    "        file_content = file.read()\n",
    "    \n",
    "    # Cria um diretório temporário local para armazenar os dados\n",
    "    with tempfile.TemporaryDirectory() as temp_dir:\n",
    "        path_file_7z = os.path.join(temp_dir, \"temp_file.7z\")\n",
    "        with open(path_file_7z, mode=\"wb\") as f:\n",
    "            f.write(file_content)\n",
    "\n",
    "        # Descompacta os arquivos 7z\n",
    "        with py7zr.SevenZipFile(path_file_7z, mode=\"r\") as z:\n",
    "            z.extractall(path=temp_dir)\n",
    "\n",
    "        # Armazena os arquivos descompactados em uma variável `csv_path`\n",
    "        extracted_file = os.listdir(temp_dir)\n",
    "        csv_path = None\n",
    "\n",
    "        # Itera sobre os arquivos descompactados em busca de arquivo csv\n",
    "        for file_name in extracted_file:\n",
    "            full_path = os.path.join(temp_dir, file_name)\n",
    "\n",
    "            try:\n",
    "                pd.read_csv(full_path, sep=\";\", nrows=5, encoding=\"ISO-8859-1\")\n",
    "                csv_path = full_path\n",
    "                break\n",
    "            except Exception:\n",
    "                continue\n",
    "        \n",
    "        if not csv_path:\n",
    "            raise FileNotFoundError(\"Nenhum arquivo csv foi encontrado no arquivo 7z.\")\n",
    "\n",
    "        # Lê os dados em um DataFrame com diferentes tentativas de condificações\n",
    "        try:\n",
    "            df = pd.read_csv(csv_path, sep=\";\", header=0, encoding=\"UTF-8\", nrows=nrows, usecols=cols)\n",
    "        \n",
    "        except UnicodeDecodeError:\n",
    "            df = pd.read_csv(csv_path, sep=\";\", header=0, encoding=\"ISO-8859-1\", nrows=nrows, usecols=cols)\n",
    "        \n",
    "    return df"
   ]
  },
  {
   "cell_type": "code",
   "execution_count": null,
   "id": "6129bf93",
   "metadata": {},
   "outputs": [],
   "source": [
    "# Caminho do arquivo RAIS no servidor ftp\n",
    "path = \"ftp://ftp.mtps.gov.br/pdet/microdados/RAIS/2024/RAIS_VINC_PUB_SP.7z\"\n",
    "\n",
    "# Chama a função e passa os argumentos\n",
    "df = extract_rais_data(url=path, nrows=200)"
   ]
  },
  {
   "cell_type": "code",
   "execution_count": null,
   "id": "53d30f3c",
   "metadata": {},
   "outputs": [],
   "source": [
    "# Explorando as variáveis do conjunto de dados\n",
    "df.info(memory_usage=\"deep\")"
   ]
  }
 ],
 "metadata": {
  "language_info": {
   "name": "python"
  }
 },
 "nbformat": 4,
 "nbformat_minor": 5
}
